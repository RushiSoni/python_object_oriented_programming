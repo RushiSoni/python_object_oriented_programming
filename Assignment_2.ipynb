{
 "cells": [
  {
   "cell_type": "code",
   "execution_count": 1,
   "metadata": {
    "collapsed": true
   },
   "outputs": [],
   "source": [
    "from abc import ABC, abstractmethod\n",
    "from datetime import datetime\n",
    "import os\n",
    "os.chdir('D:\\\\Python_oop_11042019\\\\Python Beyond the Basics - Object-Oriented Programming - Working Files\\\\Chapter 4')"
   ]
  },
  {
   "cell_type": "code",
   "execution_count": 2,
   "metadata": {
    "collapsed": true
   },
   "outputs": [],
   "source": [
    "class WriteFile(ABC):\n",
    "    \n",
    "    def __init__(self,file_name):\n",
    "        self.file_name=file_name\n",
    "        \n",
    "    @abstractmethod\n",
    "    def write(self):\n",
    "        \"\"\"common method to be abstract\"\"\"\n",
    "        return\n",
    "    \n",
    "    def write_line(self, msg):\n",
    "        fn=open(self.file_name,'a')\n",
    "        fn.write(msg+'\\n')\n",
    "        fn.close()"
   ]
  },
  {
   "cell_type": "code",
   "execution_count": 3,
   "metadata": {
    "collapsed": false
   },
   "outputs": [],
   "source": [
    "class DelimFile(WriteFile):\n",
    "    \n",
    "    def __init__(self,file_name,delim):\n",
    "        super(DelimFile,self).__init__(file_name)\n",
    "        self.delim=delim\n",
    "    \n",
    "    def write(self,list_elements):\n",
    "        list_elements=self.delim.join(list_elements)\n",
    "        self.write_line(list_elements)\n",
    "        \n",
    "class LogFile(WriteFile):\n",
    "    \n",
    "    def write(self,msg_line):\n",
    "        dt=datetime.now()\n",
    "        dt_str=dt.strftime('%Y-%m-%d %H:%M')\n",
    "        self.write_line('{0} {1}'.format(dt_str,msg_line))"
   ]
  },
  {
   "cell_type": "code",
   "execution_count": 4,
   "metadata": {
    "collapsed": false
   },
   "outputs": [],
   "source": [
    "df=DelimFile('Write_DelimFile.csv',',')\n",
    "df.write(['a','b','c','d'])\n",
    "df.write(['1','2','3','4'])"
   ]
  },
  {
   "cell_type": "code",
   "execution_count": 5,
   "metadata": {
    "collapsed": true
   },
   "outputs": [],
   "source": [
    "lf=LogFile('Write_LogFile.txt')\n",
    "lf.write('First Log line')\n",
    "lf.write('Second Log line')"
   ]
  }
 ],
 "metadata": {
  "anaconda-cloud": {},
  "kernelspec": {
   "display_name": "Python [conda root]",
   "language": "python",
   "name": "conda-root-py"
  },
  "language_info": {
   "codemirror_mode": {
    "name": "ipython",
    "version": 3
   },
   "file_extension": ".py",
   "mimetype": "text/x-python",
   "name": "python",
   "nbconvert_exporter": "python",
   "pygments_lexer": "ipython3",
   "version": "3.5.2"
  }
 },
 "nbformat": 4,
 "nbformat_minor": 1
}
