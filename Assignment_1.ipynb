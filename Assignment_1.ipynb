{
 "cells": [
  {
   "cell_type": "code",
   "execution_count": null,
   "metadata": {
    "collapsed": true
   },
   "outputs": [],
   "source": [
    "class CountIncrement(object):\n",
    "        \n",
    "    def set_val(self,num):\n",
    "        self.num=int(num)\n",
    "        \n",
    "    def get_increment_val(self):\n",
    "        return self.num+1    "
   ]
  },
  {
   "cell_type": "code",
   "execution_count": 1,
   "metadata": {
    "collapsed": false
   },
   "outputs": [],
   "source": [
    "class MaxSizeList(object):\n",
    "    def __init__(self,list_len):\n",
    "        self.list_len=list_len\n",
    "        self.class_list=[]\n",
    "    \n",
    "    def push(self,bdd_to_list):\n",
    "        self.class_list.append(bdd_to_list)\n",
    "        if len(self.class_list)>self.list_len:\n",
    "            self.class_list.pop(0)\n",
    "    \n",
    "    def get_list(self):\n",
    "        #return self.class_list[-self.list_len:]\n",
    "        return self.class_list    "
   ]
  },
  {
   "cell_type": "code",
   "execution_count": 2,
   "metadata": {
    "collapsed": true
   },
   "outputs": [],
   "source": [
    "a=MaxSizeList(3)"
   ]
  },
  {
   "cell_type": "code",
   "execution_count": 3,
   "metadata": {
    "collapsed": false
   },
   "outputs": [],
   "source": [
    "a.push('Hi')\n",
    "a.push('Hello')\n",
    "a.push('World')\n",
    "a.push('power')\n",
    "a.push('python')\n",
    "a.push('oop')"
   ]
  },
  {
   "cell_type": "code",
   "execution_count": 4,
   "metadata": {
    "collapsed": false
   },
   "outputs": [
    {
     "data": {
      "text/plain": [
       "['power', 'python', 'oop']"
      ]
     },
     "execution_count": 4,
     "metadata": {},
     "output_type": "execute_result"
    }
   ],
   "source": [
    "a.get_list()"
   ]
  },
  {
   "cell_type": "code",
   "execution_count": 5,
   "metadata": {
    "collapsed": true
   },
   "outputs": [],
   "source": [
    "b=MaxSizeList(4)"
   ]
  },
  {
   "cell_type": "code",
   "execution_count": 6,
   "metadata": {
    "collapsed": true
   },
   "outputs": [],
   "source": [
    "b.push('Hi')\n",
    "b.push('Hello')\n",
    "b.push('World')\n",
    "b.push('power')\n",
    "b.push('python')\n",
    "b.push('oop')"
   ]
  },
  {
   "cell_type": "code",
   "execution_count": 7,
   "metadata": {
    "collapsed": false
   },
   "outputs": [
    {
     "data": {
      "text/plain": [
       "['World', 'power', 'python', 'oop']"
      ]
     },
     "execution_count": 7,
     "metadata": {},
     "output_type": "execute_result"
    }
   ],
   "source": [
    "b.get_list()"
   ]
  }
 ],
 "metadata": {
  "anaconda-cloud": {},
  "kernelspec": {
   "display_name": "Python [conda root]",
   "language": "python",
   "name": "conda-root-py"
  },
  "language_info": {
   "codemirror_mode": {
    "name": "ipython",
    "version": 3
   },
   "file_extension": ".py",
   "mimetype": "text/x-python",
   "name": "python",
   "nbconvert_exporter": "python",
   "pygments_lexer": "ipython3",
   "version": "3.5.2"
  }
 },
 "nbformat": 4,
 "nbformat_minor": 1
}
