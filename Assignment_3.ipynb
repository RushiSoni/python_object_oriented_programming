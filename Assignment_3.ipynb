{
 "cells": [
  {
   "cell_type": "code",
   "execution_count": 1,
   "metadata": {},
   "outputs": [],
   "source": [
    "import os\n",
    "os.chdir('/opsmnt/Projects/python_oop')"
   ]
  },
  {
   "cell_type": "code",
   "execution_count": 2,
   "metadata": {},
   "outputs": [],
   "source": [
    "class ConfigDict(dict):\n",
    "    \n",
    "    def __init__(self,filename):\n",
    "        self._filename=filename\n",
    "        if os.path.isfile(self._filename):\n",
    "            with open(self._filename) as fh:\n",
    "                for line in fh:\n",
    "                    line = line.rstrip()\n",
    "                    key,value=line.split('=',1)\n",
    "                    dict.__setitem__(self,key,value)\n",
    "    \n",
    "    def __setitem__(self,key,value):\n",
    "        dict.__setitem__(self,key,value)\n",
    "        with open(self._filename, 'w') as fh:\n",
    "            for key, value in self.items():\n",
    "                fh.write(f'{key}={value}')"
   ]
  },
  {
   "cell_type": "code",
   "execution_count": 3,
   "metadata": {},
   "outputs": [
    {
     "name": "stdout",
     "output_type": "stream",
     "text": [
      "db=oracle\r\n",
      "host_name=localhost\r\n",
      "username=root\r\n",
      "password=root"
     ]
    }
   ],
   "source": [
    "!cat config.txt"
   ]
  },
  {
   "cell_type": "code",
   "execution_count": 4,
   "metadata": {},
   "outputs": [],
   "source": [
    "cc=ConfigDict('config.txt')"
   ]
  },
  {
   "cell_type": "code",
   "execution_count": 5,
   "metadata": {},
   "outputs": [
    {
     "data": {
      "text/plain": [
       "{'db': 'oracle',\n",
       " 'host_name': 'localhost',\n",
       " 'username': 'root',\n",
       " 'password': 'root'}"
      ]
     },
     "execution_count": 5,
     "metadata": {},
     "output_type": "execute_result"
    }
   ],
   "source": [
    "cc"
   ]
  }
 ],
 "metadata": {
  "kernelspec": {
   "display_name": "Python3_CISCO_forecasting",
   "language": "python",
   "name": "cisco_forecasting"
  },
  "language_info": {
   "codemirror_mode": {
    "name": "ipython",
    "version": 3
   },
   "file_extension": ".py",
   "mimetype": "text/x-python",
   "name": "python",
   "nbconvert_exporter": "python",
   "pygments_lexer": "ipython3",
   "version": "3.6.7"
  }
 },
 "nbformat": 4,
 "nbformat_minor": 2
}
